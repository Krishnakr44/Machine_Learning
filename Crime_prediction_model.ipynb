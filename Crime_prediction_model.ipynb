{
 "cells": [
  {
   "cell_type": "code",
   "execution_count": 8,
   "id": "82218859",
   "metadata": {},
   "outputs": [],
   "source": [
    "import requests\n",
    "import json\n",
    "api_key = \"6e629535df364ba79b406daf6a34adac\"\n",
    "\n",
    "# Search for crime-related news articles in Karnataka\n",
    "url = f\"https://newsapi.org/v2/everything?q=crime+in+Karnataka&apiKey={api_key}\"\n",
    "response = requests.get(url)\n",
    "articles = response.json()[\"articles\"]\n",
    "\n",
    "# Extract the relevant information from the articles\n",
    "# Extract the relevant information from the articles\n",
    "crime_data = []\n",
    "for article in articles:\n",
    "    crime_city = None\n",
    "    crime_place = None\n",
    "    \n",
    "    # Extract the city and place of the crime from the article's description\n",
    "    description = article[\"description\"]\n",
    "    if \" in \" in description:\n",
    "        parts = description.split(\" in \")\n",
    "        crime_place = parts[0].strip()\n",
    "        crime_city = parts[1].strip()\n",
    "    \n",
    "    crime_data.append({\n",
    "        \"title\": article[\"title\"],\n",
    "        \"description\": article[\"description\"],\n",
    "        \"date\": article[\"publishedAt\"],\n",
    "        \"location\": \"Karnataka\",\n",
    "        \"crime_city\": crime_city,\n",
    "        \"crime_place\": crime_place\n",
    "    })\n",
    "\n",
    "# Save the crime data to a file\n",
    "with open(\"crime_data.json\", \"w\") as f:\n",
    "    f.write(json.dumps(crime_data))"
   ]
  },
  {
   "cell_type": "code",
   "execution_count": 20,
   "id": "9468ebcb",
   "metadata": {},
   "outputs": [
    {
     "data": {
      "text/html": [
       "<div>\n",
       "<style scoped>\n",
       "    .dataframe tbody tr th:only-of-type {\n",
       "        vertical-align: middle;\n",
       "    }\n",
       "\n",
       "    .dataframe tbody tr th {\n",
       "        vertical-align: top;\n",
       "    }\n",
       "\n",
       "    .dataframe thead th {\n",
       "        text-align: right;\n",
       "    }\n",
       "</style>\n",
       "<table border=\"1\" class=\"dataframe\">\n",
       "  <thead>\n",
       "    <tr style=\"text-align: right;\">\n",
       "      <th></th>\n",
       "      <th>title</th>\n",
       "      <th>description</th>\n",
       "      <th>date</th>\n",
       "      <th>location</th>\n",
       "      <th>crime_city</th>\n",
       "      <th>crime_place</th>\n",
       "    </tr>\n",
       "  </thead>\n",
       "  <tbody>\n",
       "    <tr>\n",
       "      <th>0</th>\n",
       "      <td>Solving Crime | From IIT grad to wanted crimin...</td>\n",
       "      <td>In seven years, Nagendra Reddy turned from an ...</td>\n",
       "      <td>2024-01-20T06:21:49Z</td>\n",
       "      <td>Karnataka</td>\n",
       "      <td>2011 when he was shot dead</td>\n",
       "      <td>In seven years, Nagendra Reddy turned from an ...</td>\n",
       "    </tr>\n",
       "    <tr>\n",
       "      <th>1</th>\n",
       "      <td>Gauri Lankesh case: 3 key accused identified b...</td>\n",
       "      <td>Among the witnesses are a cab driver and a mob...</td>\n",
       "      <td>2024-01-18T04:18:20Z</td>\n",
       "      <td>Karnataka</td>\n",
       "      <td>the building</td>\n",
       "      <td>Among the witnesses are a cab driver and a mob...</td>\n",
       "    </tr>\n",
       "    <tr>\n",
       "      <th>2</th>\n",
       "      <td>Karnataka BJP MP Pratap Simha’s brother held f...</td>\n",
       "      <td>In a press statement, the Forest department of...</td>\n",
       "      <td>2023-12-30T16:50:16Z</td>\n",
       "      <td>Karnataka</td>\n",
       "      <td>None</td>\n",
       "      <td>None</td>\n",
       "    </tr>\n",
       "    <tr>\n",
       "      <th>3</th>\n",
       "      <td>January 10, 1984, Forty Years Ago: PM-Abdullah...</td>\n",
       "      <td>A 50-minute meeting between Prime Minister Ind...</td>\n",
       "      <td>2024-01-10T01:00:15Z</td>\n",
       "      <td>Karnataka</td>\n",
       "      <td>None</td>\n",
       "      <td>None</td>\n",
       "    </tr>\n",
       "    <tr>\n",
       "      <th>4</th>\n",
       "      <td>As BJP seeks K’taka governor’s intervention, S...</td>\n",
       "      <td>Citing the Lokayukta arrest of BS Yediyurappa ...</td>\n",
       "      <td>2024-01-03T13:18:00Z</td>\n",
       "      <td>Karnataka</td>\n",
       "      <td>None</td>\n",
       "      <td>None</td>\n",
       "    </tr>\n",
       "  </tbody>\n",
       "</table>\n",
       "</div>"
      ],
      "text/plain": [
       "                                               title  \\\n",
       "0  Solving Crime | From IIT grad to wanted crimin...   \n",
       "1  Gauri Lankesh case: 3 key accused identified b...   \n",
       "2  Karnataka BJP MP Pratap Simha’s brother held f...   \n",
       "3  January 10, 1984, Forty Years Ago: PM-Abdullah...   \n",
       "4  As BJP seeks K’taka governor’s intervention, S...   \n",
       "\n",
       "                                         description                  date  \\\n",
       "0  In seven years, Nagendra Reddy turned from an ...  2024-01-20T06:21:49Z   \n",
       "1  Among the witnesses are a cab driver and a mob...  2024-01-18T04:18:20Z   \n",
       "2  In a press statement, the Forest department of...  2023-12-30T16:50:16Z   \n",
       "3  A 50-minute meeting between Prime Minister Ind...  2024-01-10T01:00:15Z   \n",
       "4  Citing the Lokayukta arrest of BS Yediyurappa ...  2024-01-03T13:18:00Z   \n",
       "\n",
       "    location                  crime_city  \\\n",
       "0  Karnataka  2011 when he was shot dead   \n",
       "1  Karnataka                the building   \n",
       "2  Karnataka                        None   \n",
       "3  Karnataka                        None   \n",
       "4  Karnataka                        None   \n",
       "\n",
       "                                         crime_place  \n",
       "0  In seven years, Nagendra Reddy turned from an ...  \n",
       "1  Among the witnesses are a cab driver and a mob...  \n",
       "2                                               None  \n",
       "3                                               None  \n",
       "4                                               None  "
      ]
     },
     "execution_count": 20,
     "metadata": {},
     "output_type": "execute_result"
    }
   ],
   "source": [
    "import pandas as pd\n",
    "from sklearn.model_selection import train_test_split\n",
    "from sklearn.feature_extraction.text import TfidfVectorizer\n",
    "from sklearn.naive_bayes import MultinomialNB\n",
    "from sklearn.metrics import accuracy_score\n",
    "\n",
    "# Load the preprocessed crime data\n",
    "with open(\"crime_data.json\", \"r\") as f:\n",
    "    crime_data = json.loads(f.read())\n",
    "\n",
    "# Convert the crime data into a pandas DataFrame\n",
    "df = pd.DataFrame(crime_data)\n",
    "df.head()"
   ]
  },
  {
   "cell_type": "code",
   "execution_count": 24,
   "id": "a58f7d81",
   "metadata": {},
   "outputs": [],
   "source": [
    "# Define the features and the target variable\n",
    "# Define the features and the target variable\n",
    "X = df[[\"title\", \"description\", \"date\"]]\n",
    "y = df[\"location\"]\n",
    "\n",
    "# Split the data into training and testing sets\n",
    "X_train, X_test, y_train, y_test = train_test_split(X, y, test_size=0.2, random_state=42)\n",
    "\n",
    "# Convert the text data into numerical format using TfidfVectorizer\n",
    "vectorizer = TfidfVectorizer()\n",
    "X_train_vectorized = vectorizer.fit_transform(X_train[\"title\"] + X_train[\"description\"])\n",
    "X_test_vectorized = vectorizer.transform(X_test[\"title\"] + X_test[\"description\"])\n"
   ]
  },
  {
   "cell_type": "code",
   "execution_count": 25,
   "id": "6c7a673d",
   "metadata": {},
   "outputs": [
    {
     "data": {
      "text/plain": [
       "MultinomialNB()"
      ]
     },
     "execution_count": 25,
     "metadata": {},
     "output_type": "execute_result"
    }
   ],
   "source": [
    "# Train the Multinomial Naive Bayes model for crime prediction\n",
    "model = MultinomialNB()\n",
    "model.fit(X_train_vectorized, y_train)"
   ]
  },
  {
   "cell_type": "code",
   "execution_count": 26,
   "id": "4b5b0442",
   "metadata": {},
   "outputs": [],
   "source": [
    "\n",
    "# Make predictions on the test set\n",
    "y_pred = model.predict(X_test_vectorized)\n"
   ]
  },
  {
   "cell_type": "code",
   "execution_count": 27,
   "id": "0c692b79",
   "metadata": {},
   "outputs": [
    {
     "name": "stdout",
     "output_type": "stream",
     "text": [
      "Accuracy: 1.0\n"
     ]
    }
   ],
   "source": [
    "# Calculate the accuracy of the model\n",
    "accuracy = accuracy_score(y_test, y_pred)\n",
    "print(f\"Accuracy: {accuracy}\")"
   ]
  },
  {
   "cell_type": "code",
   "execution_count": 31,
   "id": "ef69ad2b",
   "metadata": {},
   "outputs": [
    {
     "name": "stdout",
     "output_type": "stream",
     "text": [
      "Prediction for 2023-03-20: Karnataka\n",
      "Prediction for 2023-03-20: Karnataka\n"
     ]
    }
   ],
   "source": [
    "# Make predictions for a specific date\n",
    "date = \"2023-03-20\"\n",
    "new_data = {\"title\": [], \"description\": [], \"date\": [date], \"location\": [], \"crime_city\": [], \"crime_place\": []}\n",
    "\n",
    "# Search for crime-related news articles on the specific date\n",
    "url = f\"https://newsapi.org/v2/everything?q=crime+in+Karnataka+AND+{date}&apiKey={api_key}\"\n",
    "response = requests.get(url)\n",
    "articles = response.json()[\"articles\"]\n",
    "\n",
    "# Extract the relevant information from the articles\n",
    "for article in articles:\n",
    "    crime_city = None\n",
    "    crime_place = None\n",
    "    \n",
    "    # Extract the city and place of the crime from the article's description\n",
    "    description = article[\"description\"]\n",
    "    if \" in \" in description:\n",
    "        parts = description.split(\" in \")\n",
    "        crime_place = parts[0].strip()\n",
    "        crime_city = parts[1].strip()\n",
    "    \n",
    "    new_data[\"title\"].append(article[\"title\"])\n",
    "    new_data[\"description\"].append(article[\"description\"])\n",
    "    new_data[\"date\"].append(date)\n",
    "    new_data[\"location\"].append(crime_city)\n",
    "    new_data[\"crime_city\"].append(crime_city)\n",
    "    new_data[\"crime_place\"].append(crime_place)\n",
    "\n",
    "# Convert the text data into numerical format using TfidfVectorizer\n",
    "new_data_vectorized = vectorizer.transform(new_data[\"title\"] + new_data[\"description\"])\n",
    "\n",
    "# Make predictions on the new data\n",
    "new_data_predictions = model.predict(new_data_vectorized)\n",
    "\n",
    "# Print the predictions\n",
    "for i, prediction in enumerate(new_data_predictions):\n",
    "    print(f\"Prediction for {date}: {prediction}\")"
   ]
  },
  {
   "cell_type": "code",
   "execution_count": null,
   "id": "74aed280",
   "metadata": {},
   "outputs": [],
   "source": []
  }
 ],
 "metadata": {
  "kernelspec": {
   "display_name": "Python 3 (ipykernel)",
   "language": "python",
   "name": "python3"
  },
  "language_info": {
   "codemirror_mode": {
    "name": "ipython",
    "version": 3
   },
   "file_extension": ".py",
   "mimetype": "text/x-python",
   "name": "python",
   "nbconvert_exporter": "python",
   "pygments_lexer": "ipython3",
   "version": "3.9.13"
  }
 },
 "nbformat": 4,
 "nbformat_minor": 5
}
