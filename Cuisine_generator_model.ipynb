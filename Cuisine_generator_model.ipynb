{
 "cells": [
  {
   "cell_type": "code",
   "execution_count": 5,
   "id": "e57b4adc",
   "metadata": {},
   "outputs": [
    {
     "name": "stdout",
     "output_type": "stream",
     "text": [
      "Running on local URL:  http://127.0.0.1:7862\n",
      "\n",
      "To create a public link, set `share=True` in `launch()`.\n"
     ]
    },
    {
     "data": {
      "text/html": [
       "<div><iframe src=\"http://127.0.0.1:7862/\" width=\"100%\" height=\"500\" allow=\"autoplay; camera; microphone; clipboard-read; clipboard-write;\" frameborder=\"0\" allowfullscreen></iframe></div>"
      ],
      "text/plain": [
       "<IPython.core.display.HTML object>"
      ]
     },
     "metadata": {},
     "output_type": "display_data"
    }
   ],
   "source": [
    "from gradio import Interface\n",
    "from langchain.llms import OpenAI\n",
    "from langchain.prompts import PromptTemplate\n",
    "from langchain.chains import LLMChain\n",
    "from langchain.chains import SequentialChain\n",
    "from dotenv import load_dotenv\n",
    "import os\n",
    "\n",
    "load_dotenv()\n",
    "\n",
    "api_key = os.getenv(\"OPENAI_API_KEY\")\n",
    "os.environ['OPENAI_API_KEY'] =api_key\n",
    "\n",
    "llm = OpenAI(temperature=0.7)\n",
    "\n",
    "def generate_restaurant_name_and_items(cuisine):\n",
    "    # Chain 1: Restaurant Name\n",
    "    prompt_template_name = PromptTemplate(\n",
    "        input_variables=['cuisine'],\n",
    "        template=\"I want to open a restaurant for {cuisine} food. Suggest a fancy name for this.\"\n",
    "    )\n",
    "\n",
    "    name_chain = LLMChain(llm=llm, prompt=prompt_template_name, output_key=\"restaurant_name\")\n",
    "\n",
    "    # Chain 2: Menu Items\n",
    "    prompt_template_items = PromptTemplate(\n",
    "        input_variables=['restaurant_name'],\n",
    "        template=\"\"\"Suggest some menu items for {restaurant_name}. Return it as a comma separated list\"\"\"\n",
    "    )\n",
    "\n",
    "    food_items_chain = LLMChain(llm=llm, prompt=prompt_template_items, output_key=\"menu_items\")\n",
    "\n",
    "    chain = SequentialChain(\n",
    "        chains=[name_chain, food_items_chain],\n",
    "        input_variables=['cuisine'],\n",
    "        output_variables=['restaurant_name', \"menu_items\"]\n",
    "    )\n",
    "\n",
    "    response = chain({'cuisine': cuisine})\n",
    "\n",
    "    return response\n",
    "\n",
    "if __name__ == \"__main__\":\n",
    "    from gradio import Interface\n",
    "    interface = Interface(generate_restaurant_name_and_items, inputs=\"text\", outputs=\"text\")\n",
    "    interface.launch()"
   ]
  }
 ],
 "metadata": {
  "kernelspec": {
   "display_name": "Python 3 (ipykernel)",
   "language": "python",
   "name": "python3"
  },
  "language_info": {
   "codemirror_mode": {
    "name": "ipython",
    "version": 3
   },
   "file_extension": ".py",
   "mimetype": "text/x-python",
   "name": "python",
   "nbconvert_exporter": "python",
   "pygments_lexer": "ipython3",
   "version": "3.9.13"
  }
 },
 "nbformat": 4,
 "nbformat_minor": 5
}
